{
 "cells": [
  {
   "cell_type": "code",
   "execution_count": 1,
   "metadata": {
    "collapsed": false
   },
   "outputs": [
    {
     "name": "stdout",
     "output_type": "stream",
     "text": [
      "Successfully downloaded train-images-idx3-ubyte.gz 9912422 bytes.\n",
      "Extracting /tmp/data/train-images-idx3-ubyte.gz\n",
      "Successfully downloaded train-labels-idx1-ubyte.gz 28881 bytes.\n",
      "Extracting /tmp/data/train-labels-idx1-ubyte.gz\n",
      "Successfully downloaded t10k-images-idx3-ubyte.gz 1648877 bytes.\n",
      "Extracting /tmp/data/t10k-images-idx3-ubyte.gz\n",
      "Successfully downloaded t10k-labels-idx1-ubyte.gz 4542 bytes.\n",
      "Extracting /tmp/data/t10k-labels-idx1-ubyte.gz\n"
     ]
    }
   ],
   "source": [
    "from __future__ import division, print_function, absolute_import\n",
    "\n",
    "# Import MNIST data\n",
    "from tensorflow.examples.tutorials.mnist import input_data\n",
    "mnist = input_data.read_data_sets(\"/tmp/data/\", one_hot=False)\n",
    "\n",
    "import tensorflow as tf\n",
    "import matplotlib.pyplot as plt\n",
    "import numpy as np"
   ]
  },
  {
   "cell_type": "code",
   "execution_count": 8,
   "metadata": {
    "collapsed": true
   },
   "outputs": [],
   "source": [
    "# Parameters\n",
    "learning_rate = 0.001\n",
    "num_steps = 2000\n",
    "batch_size = 128\n",
    "display_step = 20"
   ]
  },
  {
   "cell_type": "code",
   "execution_count": 13,
   "metadata": {
    "collapsed": true
   },
   "outputs": [],
   "source": [
    "# Network Parameters\n",
    "n_input = 784 # MNIST data input (img shape: 28*28)\n",
    "num_classes = 10 # MNIST total classes (0-9 digits)\n",
    "dropout = 0.5 # Dropout, probability to keep units"
   ]
  },
  {
   "cell_type": "code",
   "execution_count": 24,
   "metadata": {
    "collapsed": true
   },
   "outputs": [],
   "source": [
    "# Create the neural network\n",
    "def alex_net(x_dict, num_classes, dropout, reuse, is_training):\n",
    "    \n",
    "    # Define a scope for reusing the variables\n",
    "    with tf.variable_scope('ConvNet', reuse=reuse):\n",
    "        # TF Estimator input is a dict, in case of multiple inputs\n",
    "        x = x_dict['images']\n",
    "\n",
    "        # MNIST data input is a 1-D vector of 784 features (28*28 pixels)\n",
    "        # Reshape to match picture format [Height x Width x Channel]\n",
    "        # Tensor input become 4-D: [Batch Size, Height, Width, Channel]\n",
    "        x = tf.reshape(x, shape=[-1, 28, 28, 1])\n",
    "\n",
    "        # Convolution Layer with 32 filters and a kernel size of 3\n",
    "        conv1 = tf.layers.conv2d(x, 32, 3, activation=tf.nn.relu)\n",
    "        # Max Pooling (down-sampling) with strides of 2 and kernel size of 2\n",
    "        conv1 = tf.layers.max_pooling2d(conv1, 2, 2)\n",
    "        # Batch norm\n",
    "        conv1 = tf.contrib.layers.batch_norm(conv1)\n",
    "\n",
    "        # Convolution Layer with 64 filters and a kernel size of 3\n",
    "        conv2 = tf.layers.conv2d(conv1, 64, 3, activation=tf.nn.relu)\n",
    "        # Max Pooling (down-sampling) with strides of 2 and kernel size of 2\n",
    "        conv2 = tf.layers.max_pooling2d(conv2, 2, 2)\n",
    "        # Batch Norm\n",
    "        conv2 = tf.contrib.layers.batch_norm(conv2)\n",
    "        \n",
    "        # Convolution Layer with 64 filters and a kernel size of 3\n",
    "        conv3 = tf.layers.conv2d(conv2, 64, 3, activation=tf.nn.relu)\n",
    "    \n",
    "        # Flatten the data to a 1-D vector for the fully connected layer\n",
    "        fc1 = tf.contrib.layers.flatten(conv3)\n",
    "\n",
    "        # Fully connected layer\n",
    "        fc1 = tf.layers.dense(fc1, 1024)\n",
    "        # Apply Dropout (if is_training is False, dropout is not applied)\n",
    "        fc1 = tf.layers.dropout(fc1, rate=dropout, training=is_training)\n",
    "        \n",
    "        # Fully connected layer\n",
    "        fc2 = tf.layers.dense(fc1, 1024)\n",
    "        # Apply Dropout (if is_training is False, dropout is not applied)\n",
    "        fc2 = tf.layers.dropout(fc2, rate=dropout, training=is_training)\n",
    "\n",
    "        # Output layer, class prediction\n",
    "        out = tf.layers.dense(fc2, n_classes)\n",
    "\n",
    "    return out"
   ]
  },
  {
   "cell_type": "code",
   "execution_count": 25,
   "metadata": {
    "collapsed": true
   },
   "outputs": [],
   "source": [
    "# Define the model function (following TF Estimator Template)\n",
    "def model_fn(features, labels, mode):\n",
    "    \n",
    "    # Build the neural network\n",
    "    # Because Dropout have different behavior at training and prediction time, we\n",
    "    # need to create 2 distinct computation graphs that still share the same weights.\n",
    "    logits_train = alex_net(features, num_classes, dropout, reuse=False, is_training=True)\n",
    "    logits_test = alex_net(features, num_classes, dropout, reuse=True, is_training=False)\n",
    "    \n",
    "    # Predictions\n",
    "    pred_classes = tf.argmax(logits_test, axis=1)\n",
    "    pred_probas = tf.nn.softmax(logits_test)\n",
    "    \n",
    "    # If prediction mode, early return\n",
    "    if mode == tf.estimator.ModeKeys.PREDICT:\n",
    "        return tf.estimator.EstimatorSpec(mode, predictions=pred_classes) \n",
    "        \n",
    "    # Define loss and optimizer\n",
    "    loss_op = tf.reduce_mean(tf.nn.sparse_softmax_cross_entropy_with_logits(\n",
    "        logits=logits_train, labels=tf.cast(labels, dtype=tf.int32)))\n",
    "    optimizer = tf.train.AdamOptimizer(learning_rate=learning_rate)\n",
    "    train_op = optimizer.minimize(loss_op, global_step=tf.train.get_global_step())\n",
    "    \n",
    "    # Evaluate the accuracy of the model\n",
    "    acc_op = tf.metrics.accuracy(labels=labels, predictions=pred_classes)\n",
    "    \n",
    "    # TF Estimators requires to return a EstimatorSpec, that specify\n",
    "    # the different ops for training, evaluating, ...\n",
    "    estim_specs = tf.estimator.EstimatorSpec(\n",
    "      mode=mode,\n",
    "      predictions=pred_classes,\n",
    "      loss=loss_op,\n",
    "      train_op=train_op,\n",
    "      eval_metric_ops={'accuracy': acc_op})\n",
    "\n",
    "    return estim_specs"
   ]
  },
  {
   "cell_type": "code",
   "execution_count": 26,
   "metadata": {
    "collapsed": false
   },
   "outputs": [
    {
     "name": "stdout",
     "output_type": "stream",
     "text": [
      "INFO:tensorflow:Using default config.\n",
      "WARNING:tensorflow:Using temporary folder as model directory: /var/folders/vq/_cw87bhs0ln473zqsbt7lqn40000gn/T/tmprq74xqdr\n",
      "INFO:tensorflow:Using config: {'_log_step_count_steps': 100, '_keep_checkpoint_every_n_hours': 10000, '_keep_checkpoint_max': 5, '_save_checkpoints_secs': 600, '_is_chief': True, '_task_id': 0, '_cluster_spec': <tensorflow.python.training.server_lib.ClusterSpec object at 0x11a12cb38>, '_master': '', '_num_worker_replicas': 1, '_tf_random_seed': None, '_save_summary_steps': 100, '_service': None, '_task_type': 'worker', '_num_ps_replicas': 0, '_model_dir': '/var/folders/vq/_cw87bhs0ln473zqsbt7lqn40000gn/T/tmprq74xqdr', '_session_config': None, '_save_checkpoints_steps': None}\n"
     ]
    }
   ],
   "source": [
    "# Build the Estimator\n",
    "model = tf.estimator.Estimator(model_fn)"
   ]
  },
  {
   "cell_type": "code",
   "execution_count": 27,
   "metadata": {
    "collapsed": false
   },
   "outputs": [
    {
     "name": "stdout",
     "output_type": "stream",
     "text": [
      "INFO:tensorflow:Create CheckpointSaverHook.\n",
      "INFO:tensorflow:Saving checkpoints for 1 into /var/folders/vq/_cw87bhs0ln473zqsbt7lqn40000gn/T/tmprq74xqdr/model.ckpt.\n",
      "INFO:tensorflow:step = 1, loss = 3.57852\n",
      "INFO:tensorflow:global_step/sec: 4.14355\n",
      "INFO:tensorflow:step = 101, loss = 0.217649 (24.135 sec)\n",
      "INFO:tensorflow:global_step/sec: 3.85624\n",
      "INFO:tensorflow:step = 201, loss = 0.148017 (25.932 sec)\n",
      "INFO:tensorflow:global_step/sec: 4.12476\n",
      "INFO:tensorflow:step = 301, loss = 0.156455 (24.244 sec)\n",
      "INFO:tensorflow:global_step/sec: 3.50495\n",
      "INFO:tensorflow:step = 401, loss = 0.12864 (28.532 sec)\n",
      "INFO:tensorflow:global_step/sec: 3.31603\n",
      "INFO:tensorflow:step = 501, loss = 0.028773 (30.159 sec)\n",
      "INFO:tensorflow:global_step/sec: 3.84186\n",
      "INFO:tensorflow:step = 601, loss = 0.0518613 (26.026 sec)\n",
      "INFO:tensorflow:global_step/sec: 3.95874\n",
      "INFO:tensorflow:step = 701, loss = 0.107985 (25.261 sec)\n",
      "INFO:tensorflow:global_step/sec: 3.99589\n",
      "INFO:tensorflow:step = 801, loss = 0.0503822 (25.026 sec)\n",
      "INFO:tensorflow:global_step/sec: 2.56718\n",
      "INFO:tensorflow:step = 901, loss = 0.0895173 (38.963 sec)\n",
      "INFO:tensorflow:global_step/sec: 3.17444\n",
      "INFO:tensorflow:step = 1001, loss = 0.040194 (31.492 sec)\n",
      "INFO:tensorflow:global_step/sec: 3.14907\n",
      "INFO:tensorflow:step = 1101, loss = 0.0372069 (31.757 sec)\n",
      "INFO:tensorflow:global_step/sec: 3.32619\n",
      "INFO:tensorflow:step = 1201, loss = 0.0122657 (30.062 sec)\n",
      "INFO:tensorflow:global_step/sec: 4.00233\n",
      "INFO:tensorflow:step = 1301, loss = 0.0763102 (24.985 sec)\n",
      "INFO:tensorflow:global_step/sec: 4.03736\n",
      "INFO:tensorflow:step = 1401, loss = 0.0451086 (24.769 sec)\n",
      "INFO:tensorflow:global_step/sec: 3.35367\n",
      "INFO:tensorflow:step = 1501, loss = 0.0321806 (29.819 sec)\n",
      "INFO:tensorflow:global_step/sec: 3.89827\n",
      "INFO:tensorflow:step = 1601, loss = 0.151716 (25.651 sec)\n",
      "INFO:tensorflow:global_step/sec: 3.89694\n",
      "INFO:tensorflow:step = 1701, loss = 0.0945714 (25.661 sec)\n",
      "INFO:tensorflow:global_step/sec: 3.70935\n",
      "INFO:tensorflow:step = 1801, loss = 0.0439552 (26.959 sec)\n",
      "INFO:tensorflow:global_step/sec: 3.77257\n",
      "INFO:tensorflow:step = 1901, loss = 0.0609258 (26.507 sec)\n",
      "INFO:tensorflow:Saving checkpoints for 2000 into /var/folders/vq/_cw87bhs0ln473zqsbt7lqn40000gn/T/tmprq74xqdr/model.ckpt.\n",
      "INFO:tensorflow:Loss for final step: 0.0834021.\n"
     ]
    },
    {
     "data": {
      "text/plain": [
       "<tensorflow.python.estimator.estimator.Estimator at 0x11a12cdd8>"
      ]
     },
     "execution_count": 27,
     "metadata": {},
     "output_type": "execute_result"
    }
   ],
   "source": [
    "# Define the input function for training\n",
    "input_fn = tf.estimator.inputs.numpy_input_fn(\n",
    "    x={'images': mnist.train.images}, y=mnist.train.labels,\n",
    "    batch_size=batch_size, num_epochs=None, shuffle=True)\n",
    "# Train the Model\n",
    "model.train(input_fn, steps=num_steps)"
   ]
  },
  {
   "cell_type": "code",
   "execution_count": null,
   "metadata": {
    "collapsed": true
   },
   "outputs": [],
   "source": []
  }
 ],
 "metadata": {
  "anaconda-cloud": {},
  "kernelspec": {
   "display_name": "tensorflow",
   "language": "python",
   "name": "tensorflow"
  },
  "language_info": {
   "codemirror_mode": {
    "name": "ipython",
    "version": 3
   },
   "file_extension": ".py",
   "mimetype": "text/x-python",
   "name": "python",
   "nbconvert_exporter": "python",
   "pygments_lexer": "ipython3",
   "version": "3.5.2"
  }
 },
 "nbformat": 4,
 "nbformat_minor": 2
}
